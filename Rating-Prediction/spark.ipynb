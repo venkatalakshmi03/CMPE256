{
  "nbformat": 4,
  "nbformat_minor": 0,
  "metadata": {
    "colab": {
      "name": "rating-spark.ipynb",
      "provenance": [],
      "collapsed_sections": []
    },
    "kernelspec": {
      "name": "python3",
      "display_name": "Python 3"
    },
    "language_info": {
      "name": "python"
    }
  },
  "cells": [
    {
      "cell_type": "code",
      "execution_count": null,
      "metadata": {
        "id": "YTnPZyGN0wwU"
      },
      "outputs": [],
      "source": [
        "!apt-get install openjdk-8-jdk-headless -qq > /dev/null\n",
        "!wget -q https://archive.apache.org/dist/spark/spark-3.2.1/spark-3.2.1-bin-hadoop3.2.tgz\n",
        "!tar xf spark-3.2.1-bin-hadoop3.2.tgz"
      ]
    },
    {
      "cell_type": "code",
      "source": [
        "import os\n",
        "os.environ[\"JAVA_HOME\"] = \"/usr/lib/jvm/java-8-openjdk-amd64\"\n",
        "os.environ[\"SPARK_HOME\"] = \"/content/spark-3.2.1-bin-hadoop3.2\""
      ],
      "metadata": {
        "id": "ayUe7gSL1EuP"
      },
      "execution_count": null,
      "outputs": []
    },
    {
      "cell_type": "code",
      "source": [
        "!pip install pyspark"
      ],
      "metadata": {
        "colab": {
          "base_uri": "https://localhost:8080/"
        },
        "id": "M9GE877w1Nmq",
        "outputId": "29e10621-069e-45d2-f741-6790629f72da"
      },
      "execution_count": null,
      "outputs": [
        {
          "output_type": "stream",
          "name": "stdout",
          "text": [
            "Requirement already satisfied: pyspark in /usr/local/lib/python3.7/dist-packages (3.2.1)\n",
            "Requirement already satisfied: py4j==0.10.9.3 in /usr/local/lib/python3.7/dist-packages (from pyspark) (0.10.9.3)\n"
          ]
        }
      ]
    },
    {
      "cell_type": "code",
      "source": [
        "# from pyspark.context import SparkContext\n",
        "from pyspark.sql.session import SparkSession\n",
        "from pyspark.ml.feature import StringIndexer\n",
        "from pyspark.ml.recommendation import ALS\n",
        "from pyspark.ml.tuning import TrainValidationSplit, ParamGridBuilder, CrossValidator\n",
        "from pyspark.ml.evaluation import RegressionEvaluator\n",
        "\n",
        "import math\n",
        "import matplotlib.pyplot as plt"
      ],
      "metadata": {
        "id": "InjEBG5f3nn3"
      },
      "execution_count": null,
      "outputs": []
    },
    {
      "cell_type": "code",
      "source": [
        "from google.colab import drive\n",
        "drive.mount('/content/gdrive')"
      ],
      "metadata": {
        "colab": {
          "base_uri": "https://localhost:8080/"
        },
        "id": "_f-L842P6vO3",
        "outputId": "f74ece38-bc9c-417e-ab9d-67e49d39568d"
      },
      "execution_count": null,
      "outputs": [
        {
          "output_type": "stream",
          "name": "stdout",
          "text": [
            "Drive already mounted at /content/gdrive; to attempt to forcibly remount, call drive.mount(\"/content/gdrive\", force_remount=True).\n"
          ]
        }
      ]
    },
    {
      "cell_type": "markdown",
      "source": [
        "### Read Data"
      ],
      "metadata": {
        "id": "1u9_XHNoAmAv"
      }
    },
    {
      "cell_type": "code",
      "source": [
        "spark = SparkSession.builder\\\n",
        "        .master(\"local\")\\\n",
        "        .appName(\"Colab\")\\\n",
        "        .config('spark.jars.packages', 'org.xerial:sqlite-jdbc:3.34.0')\\\n",
        "        .getOrCreate()"
      ],
      "metadata": {
        "id": "EI1iny6Q6R-m"
      },
      "execution_count": null,
      "outputs": []
    },
    {
      "cell_type": "code",
      "source": [
        "df = spark.read.format('jdbc') \\\n",
        "        .options(driver='org.sqlite.JDBC', dbtable=\"Reviews\",\n",
        "                 url='jdbc:sqlite:/content/gdrive/MyDrive/dataset/Reviews.sqlite')\\\n",
        "        .load()"
      ],
      "metadata": {
        "id": "orhKkcIn6jgS"
      },
      "execution_count": null,
      "outputs": []
    },
    {
      "cell_type": "code",
      "source": [
        "# dropna() for StringIndexer to avoid NullPointerException\n",
        "df = df.select(\"UserId\", \"ProductId\", \"Score\").dropna()"
      ],
      "metadata": {
        "id": "diaJxac2E983"
      },
      "execution_count": null,
      "outputs": []
    },
    {
      "cell_type": "code",
      "source": [
        "df.show(5)"
      ],
      "metadata": {
        "colab": {
          "base_uri": "https://localhost:8080/"
        },
        "id": "eHgnxyKy7NIp",
        "outputId": "734a98ab-2a7c-402a-cd48-f1f2fba11f80"
      },
      "execution_count": null,
      "outputs": [
        {
          "output_type": "stream",
          "name": "stdout",
          "text": [
            "+--------------+----------+-----+\n",
            "|        UserId| ProductId|Score|\n",
            "+--------------+----------+-----+\n",
            "|A3SGXH7AUHU8GW|B001E4KFG0|    5|\n",
            "|A1D87F6ZCVE5NK|B00813GRG4|    1|\n",
            "| ABXLMWJIXXAIN|B000LQOCH0|    4|\n",
            "|A395BORC6FGVXV|B000UA0QIQ|    2|\n",
            "|A1UQRSCLF8GW1T|B006K2ZZ7K|    5|\n",
            "+--------------+----------+-----+\n",
            "only showing top 5 rows\n",
            "\n"
          ]
        }
      ]
    },
    {
      "cell_type": "code",
      "source": [
        "# ALS requires numeric userId and itemId. Convert to numeric Id\n",
        "user_indexer = StringIndexer(inputCol=\"UserId\", outputCol=\"UserIdIdx\")\n",
        "item_indexer = StringIndexer(inputCol=\"ProductId\", outputCol=\"ProductIdIdx\")\n",
        "\n",
        "indexed = user_indexer.fit(df).transform(df)\n",
        "indexed = item_indexer.fit(indexed).transform(indexed)"
      ],
      "metadata": {
        "id": "wwWBvx6cECI1"
      },
      "execution_count": null,
      "outputs": []
    },
    {
      "cell_type": "code",
      "source": [
        "indexed.show(5)"
      ],
      "metadata": {
        "colab": {
          "base_uri": "https://localhost:8080/"
        },
        "id": "lkSisphTAI6S",
        "outputId": "936a54a3-1ab1-40a8-b0a6-0700bd9eeaa3"
      },
      "execution_count": null,
      "outputs": [
        {
          "output_type": "stream",
          "name": "stdout",
          "text": [
            "+--------------+----------+-----+---------+------------+\n",
            "|        UserId| ProductId|Score|UserIdIdx|ProductIdIdx|\n",
            "+--------------+----------+-----+---------+------------+\n",
            "|A3SGXH7AUHU8GW|B001E4KFG0|    5| 209819.0|     53006.0|\n",
            "|A1D87F6ZCVE5NK|B00813GRG4|    1|  97842.0|     73117.0|\n",
            "| ABXLMWJIXXAIN|B000LQOCH0|    4|  45611.0|     48562.0|\n",
            "|A395BORC6FGVXV|B000UA0QIQ|    2|  42473.0|     50325.0|\n",
            "|A1UQRSCLF8GW1T|B006K2ZZ7K|    5|  55436.0|     24580.0|\n",
            "+--------------+----------+-----+---------+------------+\n",
            "only showing top 5 rows\n",
            "\n"
          ]
        }
      ]
    },
    {
      "cell_type": "code",
      "source": [
        "# Split data into train and test dataset\n",
        "(train, test) = indexed.select(\"UserIdIdx\", \"ProductIdIdx\", \"Score\").randomSplit([0.9, 0.1], seed=0)\n",
        "train.cache()\n",
        "test.cache()"
      ],
      "metadata": {
        "colab": {
          "base_uri": "https://localhost:8080/"
        },
        "id": "XfdpFlFZHnUN",
        "outputId": "e2514ee2-dd84-42e1-d911-bf3b306ec9e4"
      },
      "execution_count": null,
      "outputs": [
        {
          "output_type": "execute_result",
          "data": {
            "text/plain": [
              "DataFrame[UserIdIdx: double, ProductIdIdx: double, Score: int]"
            ]
          },
          "metadata": {},
          "execution_count": 10
        }
      ]
    },
    {
      "cell_type": "markdown",
      "source": [
        "### ALS"
      ],
      "metadata": {
        "id": "E-JboVLOIj3E"
      }
    },
    {
      "cell_type": "code",
      "source": [
        "# drop cold start strategy to avoid NaN evaluation\n",
        "als = ALS(maxIter=10, userCol=\"UserIdIdx\", itemCol=\"ProductIdIdx\", ratingCol=\"Score\", coldStartStrategy=\"drop\")"
      ],
      "metadata": {
        "id": "PHCmPkEpAYJE"
      },
      "execution_count": null,
      "outputs": []
    },
    {
      "cell_type": "code",
      "source": [
        "param_grid = ParamGridBuilder().addGrid(als.regParam, [0.3, 0.4, 0.5]) \\\n",
        ".addGrid(als.rank, [40, 50]).build()"
      ],
      "metadata": {
        "id": "5_sV6NAQJRhV"
      },
      "execution_count": null,
      "outputs": []
    },
    {
      "cell_type": "code",
      "source": [
        "param_grid"
      ],
      "metadata": {
        "id": "7NmUMfBrFSZN",
        "colab": {
          "base_uri": "https://localhost:8080/"
        },
        "outputId": "bf8c30c0-a6e9-4b1a-ef52-2990ba63c9a6"
      },
      "execution_count": null,
      "outputs": [
        {
          "output_type": "execute_result",
          "data": {
            "text/plain": [
              "[{Param(parent='ALS_d5773dcad842', name='rank', doc='rank of the factorization'): 40,\n",
              "  Param(parent='ALS_d5773dcad842', name='regParam', doc='regularization parameter (>= 0).'): 0.3},\n",
              " {Param(parent='ALS_d5773dcad842', name='rank', doc='rank of the factorization'): 50,\n",
              "  Param(parent='ALS_d5773dcad842', name='regParam', doc='regularization parameter (>= 0).'): 0.3},\n",
              " {Param(parent='ALS_d5773dcad842', name='rank', doc='rank of the factorization'): 40,\n",
              "  Param(parent='ALS_d5773dcad842', name='regParam', doc='regularization parameter (>= 0).'): 0.4},\n",
              " {Param(parent='ALS_d5773dcad842', name='rank', doc='rank of the factorization'): 50,\n",
              "  Param(parent='ALS_d5773dcad842', name='regParam', doc='regularization parameter (>= 0).'): 0.4},\n",
              " {Param(parent='ALS_d5773dcad842', name='rank', doc='rank of the factorization'): 40,\n",
              "  Param(parent='ALS_d5773dcad842', name='regParam', doc='regularization parameter (>= 0).'): 0.5},\n",
              " {Param(parent='ALS_d5773dcad842', name='rank', doc='rank of the factorization'): 50,\n",
              "  Param(parent='ALS_d5773dcad842', name='regParam', doc='regularization parameter (>= 0).'): 0.5}]"
            ]
          },
          "metadata": {},
          "execution_count": 19
        }
      ]
    },
    {
      "cell_type": "code",
      "source": [
        "evaluator = RegressionEvaluator(metricName=\"rmse\", labelCol=\"Score\",\n",
        "                               predictionCol=\"prediction\")"
      ],
      "metadata": {
        "id": "IiTF1m4uJWP0"
      },
      "execution_count": null,
      "outputs": []
    },
    {
      "cell_type": "code",
      "source": [
        "# build cross validation\n",
        "# cv = CrossValidator(estimator=als, \n",
        "#                     estimatorParamMaps=param_grid, \n",
        "#                     evaluator=evaluator, \n",
        "#                     numFolds=3)"
      ],
      "metadata": {
        "id": "7K2i7SjDoYiB"
      },
      "execution_count": null,
      "outputs": []
    },
    {
      "cell_type": "code",
      "source": [
        "tvs = TrainValidationSplit(\n",
        "  estimator=als,\n",
        "  estimatorParamMaps=param_grid,\n",
        "  evaluator=evaluator,\n",
        "  collectSubModels=True\n",
        ")"
      ],
      "metadata": {
        "id": "BSnV1P68KWsx"
      },
      "execution_count": null,
      "outputs": []
    },
    {
      "cell_type": "code",
      "source": [
        "# fit dataset\n",
        "model = tvs.fit(train)"
      ],
      "metadata": {
        "id": "7_B9HMF-KcCJ"
      },
      "execution_count": null,
      "outputs": []
    },
    {
      "cell_type": "code",
      "source": [
        "# print best model parameters\n",
        "print(model.bestModel._java_obj.parent().getRegParam())\n",
        "# print(model.bestModel._java_obj.parent().getMaxIter())\n",
        "print(model.bestModel._java_obj.parent().getRank())"
      ],
      "metadata": {
        "colab": {
          "base_uri": "https://localhost:8080/"
        },
        "id": "5L2l60iGROjc",
        "outputId": "eaa663df-5b54-4389-c716-8aad3562fe21"
      },
      "execution_count": null,
      "outputs": [
        {
          "output_type": "stream",
          "name": "stdout",
          "text": [
            "0.4\n",
            "50\n"
          ]
        }
      ]
    },
    {
      "cell_type": "code",
      "source": [
        "# export best model\n",
        "best_model = model.bestModel\n",
        "# best_model.save(\"/content/gdrive/MyDrive/model/ALSModel2\")"
      ],
      "metadata": {
        "id": "m4a-XXF5PpZl"
      },
      "execution_count": null,
      "outputs": []
    },
    {
      "cell_type": "code",
      "source": [
        "model.validationMetrics"
      ],
      "metadata": {
        "colab": {
          "base_uri": "https://localhost:8080/"
        },
        "id": "3DWiPW1-_SOh",
        "outputId": "199edf26-6bde-4f12-c051-0e12e30d9195"
      },
      "execution_count": null,
      "outputs": [
        {
          "output_type": "execute_result",
          "data": {
            "text/plain": [
              "[1.8806789694505195,\n",
              " 1.8791024904470963,\n",
              " 1.8698867785714366,\n",
              " 1.8693501714371943,\n",
              " 1.8897019879193775,\n",
              " 1.8898777605632413]"
            ]
          },
          "metadata": {},
          "execution_count": 18
        }
      ]
    },
    {
      "cell_type": "code",
      "source": [
        "params = [list(item.values()) for item in param_grid]\n",
        "result = [list(a) for a in zip(model.validationMetrics, params)]"
      ],
      "metadata": {
        "id": "MYqpHPEhiyXo"
      },
      "execution_count": null,
      "outputs": []
    },
    {
      "cell_type": "code",
      "source": [
        "result"
      ],
      "metadata": {
        "colab": {
          "base_uri": "https://localhost:8080/"
        },
        "id": "jqs3chd5lK9m",
        "outputId": "833f1064-8772-4b4c-f353-35cfa3015a20"
      },
      "execution_count": null,
      "outputs": [
        {
          "output_type": "execute_result",
          "data": {
            "text/plain": [
              "[[1.8806789694505195, [0.3, 40]],\n",
              " [1.8791024904470963, [0.3, 50]],\n",
              " [1.8698867785714366, [0.4, 40]],\n",
              " [1.8693501714371943, [0.4, 50]],\n",
              " [1.8897019879193775, [0.5, 40]],\n",
              " [1.8898777605632413, [0.5, 50]]]"
            ]
          },
          "metadata": {},
          "execution_count": 75
        }
      ]
    },
    {
      "cell_type": "code",
      "source": [
        "rmse = [item[0] for item in result]\n",
        "params = [\"regParam=\"+str(item[1][0])+\", rank=\"+str(item[1][1]) for item in result]\n",
        "plt.figure(figsize=(10,5))\n",
        "plt.title('Spark RMSE with Parameter Tuning', loc='center', fontsize=15)\n",
        "plt.plot(params, rmse, label='RMSE', color='darkgreen', marker='o')\n",
        "plt.xlabel('Parameters', fontsize=15)\n",
        "plt.ylabel('RMSE Value', fontsize=15)\n",
        "plt.xticks(rotation=30)\n",
        "plt.grid(ls='dashed')\n",
        "\n",
        "plt.show()"
      ],
      "metadata": {
        "colab": {
          "base_uri": "https://localhost:8080/",
          "height": 416
        },
        "id": "cZ0Pl2p_l2vO",
        "outputId": "35aa4b08-62b8-4bee-840b-602ac88d20b1"
      },
      "execution_count": null,
      "outputs": [
        {
          "output_type": "display_data",
          "data": {
            "text/plain": [
              "<Figure size 720x360 with 1 Axes>"
            ],
            "image/png": "[encoded data removed]"
          },
          "metadata": {
            "needs_background": "light"
          }
        }
      ]
    },
    {
      "cell_type": "markdown",
      "source": [
        "### Evaluate Test Set"
      ],
      "metadata": {
        "id": "S0xVZEHbKr5I"
      }
    },
    {
      "cell_type": "code",
      "source": [
        "# from pyspark.ml.recommendation import ALS, ALSModel\n",
        "# ALSModel.load(\"/content/gdrive/MyDrive/model/ALSModel\")"
      ],
      "metadata": {
        "id": "A1UmmT-8K6tk"
      },
      "execution_count": null,
      "outputs": []
    },
    {
      "cell_type": "code",
      "source": [
        "predictions = best_model.transform(test)\n",
        "# NA for cold start problem\n",
        "#predictions = predictions.fillna(0, subset=['prediction'])\n",
        "rmse = evaluator.evaluate(predictions)\n",
        "print(\"RMSE on Test Dataset: \" + str(rmse))"
      ],
      "metadata": {
        "colab": {
          "base_uri": "https://localhost:8080/"
        },
        "id": "c_jfrTIWQmUP",
        "outputId": "a55a54fb-809a-42fa-fffd-482e7e77eee7"
      },
      "execution_count": null,
      "outputs": [
        {
          "output_type": "stream",
          "name": "stdout",
          "text": [
            "RMSE on Test Dataset: 1.6995529112520464\n"
          ]
        }
      ]
    },
    {
      "cell_type": "code",
      "source": [
        "predictions.tail(5)"
      ],
      "metadata": {
        "colab": {
          "base_uri": "https://localhost:8080/"
        },
        "id": "TdvVyTLu6sG4",
        "outputId": "88cf7145-831f-4b5b-a4c0-28fa12991786"
      },
      "execution_count": null,
      "outputs": [
        {
          "output_type": "execute_result",
          "data": {
            "text/plain": [
              "[Row(UserIdIdx=22716.0, ProductIdIdx=43822.0, Score=5, prediction=0.4892471432685852),\n",
              " Row(UserIdIdx=40098.0, ProductIdIdx=43829.0, Score=1, prediction=1.9918385744094849),\n",
              " Row(UserIdIdx=52878.0, ProductIdIdx=43838.0, Score=5, prediction=0.7377405762672424),\n",
              " Row(UserIdIdx=12108.0, ProductIdIdx=43839.0, Score=1, prediction=1.0984745025634766),\n",
              " Row(UserIdIdx=17402.0, ProductIdIdx=43848.0, Score=5, prediction=4.622934818267822)]"
            ]
          },
          "metadata": {},
          "execution_count": 30
        }
      ]
    }
  ]
}